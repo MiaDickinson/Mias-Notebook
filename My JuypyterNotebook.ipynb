{
 "cells": [
  {
   "cell_type": "markdown",
   "id": "a237f3cc-2a58-4051-9c8c-b67050b542af",
   "metadata": {
    "tags": []
   },
   "source": [
    "# Data Science Tools and Ecosystem"
   ]
  },
  {
   "cell_type": "markdown",
   "id": "3662a314-3a29-4e2a-bf58-a8729239d8f5",
   "metadata": {},
   "source": [
    "In this notebook, Data Science Tools and Ecosystem are summarized."
   ]
  },
  {
   "cell_type": "markdown",
   "id": "dbc3b399-3701-4191-9dc0-baa8c013deab",
   "metadata": {},
   "source": [
    "**Objectives:**\n",
    "-List popular languages for data science\n",
    "-List commonly used libraries for data science\n",
    "-Create a table of data science tools"
   ]
  },
  {
   "cell_type": "markdown",
   "id": "5e9704ad-bd84-43c8-b7fa-2cfb8f3d8b1d",
   "metadata": {},
   "source": [
    "Some of the popular languages that Data Scientists use are:\n",
    "1. Python\n",
    "2. SQL\n",
    "3. Julia"
   ]
  },
  {
   "cell_type": "markdown",
   "id": "70ca7e00-5e34-4c79-84ad-207f33673af6",
   "metadata": {},
   "source": [
    "Some of the commonly used libraries used by Data Scientists include:\n",
    "1. ggplot2\n",
    "2. NumPy\n",
    "3. Pandas"
   ]
  },
  {
   "cell_type": "markdown",
   "id": "43aa0945-38e9-47f9-906c-f251f9a38c63",
   "metadata": {},
   "source": [
    "|Data Science Tools|\n",
    "----------\n",
    "|Jupyter Lab|\n",
    "|Jupyter Notebook|\n",
    "|Watson Studio|"
   ]
  },
  {
   "cell_type": "markdown",
   "id": "8a4f296f-b0be-452f-ae44-b14543d967df",
   "metadata": {},
   "source": [
    "### Below are a few examples of evaluating arithmetic expressions in Python"
   ]
  },
  {
   "cell_type": "code",
   "execution_count": 2,
   "id": "59b6e3ef-41a0-483c-88d0-3ca6ea5cbd25",
   "metadata": {
    "tags": []
   },
   "outputs": [
    {
     "data": {
      "text/plain": [
       "17"
      ]
     },
     "execution_count": 2,
     "metadata": {},
     "output_type": "execute_result"
    }
   ],
   "source": [
    "#This a simple arithmetic expression to multiply then add integers\n",
    "(3*4)+5"
   ]
  },
  {
   "cell_type": "code",
   "execution_count": 3,
   "id": "093f0663-0c7f-47a5-8027-01d40a877def",
   "metadata": {
    "tags": []
   },
   "outputs": [
    {
     "data": {
      "text/plain": [
       "3.3333333333333335"
      ]
     },
     "execution_count": 3,
     "metadata": {},
     "output_type": "execute_result"
    }
   ],
   "source": [
    "#This will convert 200 minutes to hours by diving by 60\n",
    "(200/60)"
   ]
  },
  {
   "cell_type": "markdown",
   "id": "bea01686-4b23-45cd-8d00-3f4d867209a5",
   "metadata": {},
   "source": [
    "## Author\n",
    "Mia Dickinson"
   ]
  },
  {
   "cell_type": "code",
   "execution_count": null,
   "id": "563aa19c-b397-4e03-a8c5-0b0608dda158",
   "metadata": {},
   "outputs": [],
   "source": []
  }
 ],
 "metadata": {
  "kernelspec": {
   "display_name": "Python",
   "language": "python",
   "name": "conda-env-python-py"
  },
  "language_info": {
   "codemirror_mode": {
    "name": "ipython",
    "version": 3
   },
   "file_extension": ".py",
   "mimetype": "text/x-python",
   "name": "python",
   "nbconvert_exporter": "python",
   "pygments_lexer": "ipython3",
   "version": "3.7.12"
  }
 },
 "nbformat": 4,
 "nbformat_minor": 5
}
